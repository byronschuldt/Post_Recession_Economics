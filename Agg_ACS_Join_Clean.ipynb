{
 "cells": [
  {
   "cell_type": "markdown",
   "metadata": {},
   "source": [
    "Purpose: Function to accept user-defined LEHD input file from the FTP site and a local csv of ACS data (this script is built to use the same format as the ACS csv download from CO Demography office site)"
   ]
  },
  {
   "cell_type": "code",
   "execution_count": 1,
   "metadata": {},
   "outputs": [],
   "source": [
    "# Import necessary libraries\n",
    "import pandas as pd"
   ]
  },
  {
   "cell_type": "code",
   "execution_count": 13,
   "metadata": {},
   "outputs": [],
   "source": [
    "# Define function to retrieve and read the file from the site\n",
    "def aggregate_LEHD(_state, _type, _segment, _JT_code, _year):\n",
    "    urlbase = 'https://lehd.ces.census.gov/data/lodes/LODES7/'\n",
    "    file_name = _state + '_' + _type + '_' + _segment + '_' + _JT_code + '_' + _year + '.csv.gz'\n",
    "    file_path = urlbase + _state + '/' + _type + '/' \n",
    "    file = pd.read_csv(file_path + file_name)\n",
    "    #Clip the wi_rac dataframe to include only the relevant columns: C000, CE01, CE02, CE03, h_geocode\n",
    "    #wi_rac2 = wi_rac.iloc['h_geocode','C000','CE01','CE02','CE03'],[]\n",
    "    file_clipped = file.iloc[:,[0,1,5,6,7]]\n",
    "    # Add a column that will later hold the block group number from each h_code\n",
    "    file_clipped.insert(1, 'BlkGrp_code', '0')\n",
    "    # Set block group equal to the string h_geocode\n",
    "    file_clipped.loc[:,'BlkGrp_code']= file_clipped.loc[:,'h_geocode'].astype(str)\n",
    "    # Chop the string down to the countytractblockgroup numbers only, cutting off the block id (last 3 digits).\n",
    "    file_clipped.loc[:,'BlkGrp_code']= file_clipped.loc[:,'BlkGrp_code'].str[:-3]\n",
    "    # For each unique BlkGrp_code value, aggregate the rows into one representing the sum of each jobs column while taking\n",
    "    # the first h_geocode to make sure the blk grp code is correct\n",
    "    file_agg = file_clipped.groupby(file_clipped['BlkGrp_code']).agg({'h_geocode':'first', 'C000':'sum', 'CE01':'sum','CE02':'sum','CE03':'sum',})\n",
    "    #Add columns containing information on percent low, me, high income jobs\n",
    "    file_agg['CE01%']= file_agg['CE01']/file_agg['C000']\n",
    "    file_agg['CE02%']= file_agg['CE02']/file_agg['C000']\n",
    "    file_agg['CE03%']= file_agg['CE03']/file_agg['C000']\n",
    "    \n",
    "    return file_agg"
   ]
  },
  {
   "cell_type": "code",
   "execution_count": 18,
   "metadata": {},
   "outputs": [],
   "source": [
    "# Define function to read in and prep ACS csv for merging to LEHD:\n",
    "def get_ACS(_ACS_file):\n",
    "    ACS = pd.read_csv(_ACS_file)\n",
    "    # Drop unnecessary columns that come default with CO Demography office export\n",
    "    ACS = ACS.drop(['geoname','state','county','place','tract','bg'], axis= 1)\n",
    "    ACS = ACS.iloc[1:,:]\n",
    "    # Set geonum column to type string\n",
    "    ACS.loc[:,'geonum']= ACS.loc[:,'geonum'].astype(str)\n",
    "    # Chop the string down to the countytractblockgroup numbers only, cutting off the unnecessary leading 1.\n",
    "    ACS.loc[:,'geonum']= ACS.loc[:,'geonum'].str[1:]\n",
    "    \n",
    "    return ACS"
   ]
  },
  {
   "cell_type": "code",
   "execution_count": 23,
   "metadata": {},
   "outputs": [],
   "source": [
    "def main(_state, _type, _segment, _JT_code, _year, _ACS_file):\n",
    "    rac_file = aggregate_LEHD(_state,_type,_segment,_JT_code,_year)\n",
    "    ACS_file = get_ACS(_ACS_file)\n",
    "    merged = rac_file.merge(ACS_file, left_on= 'BlkGrp_code', right_on= 'geonum')\n",
    "    return merged"
   ]
  },
  {
   "cell_type": "code",
   "execution_count": 24,
   "metadata": {},
   "outputs": [],
   "source": [
    "wi_test = main('wi', 'rac', 'S000', 'JT00', '2010', 'WI_ACS_2009_2013_Population.csv')"
   ]
  },
  {
   "cell_type": "code",
   "execution_count": 25,
   "metadata": {},
   "outputs": [
    {
     "name": "stdout",
     "output_type": "stream",
     "text": [
      "         h_geocode  C000  CE01  CE02  CE03     CE01%     CE02%     CE03%  \\\n",
      "0  550019501001000   419   144   149   126  0.343675  0.355609  0.300716   \n",
      "1  550019501002000   388   120   140   128  0.309278  0.360825  0.329897   \n",
      "2  550019501003001   402   149   120   133  0.370647  0.298507  0.330846   \n",
      "3  550019502011000   525   184   215   126  0.350476  0.409524  0.240000   \n",
      "4  550019502021000   277    86   121    70  0.310469  0.436823  0.252708   \n",
      "\n",
      "         geonum b01003001  b01003_moe001  \n",
      "0  550019501001      1352          248.0  \n",
      "1  550019501002       663          195.0  \n",
      "2  550019501003      1026          154.0  \n",
      "3  550019502011      1426          136.0  \n",
      "4  550019502021       788          102.0  \n"
     ]
    }
   ],
   "source": [
    "print(wi_test[:5])"
   ]
  },
  {
   "cell_type": "code",
   "execution_count": null,
   "metadata": {},
   "outputs": [],
   "source": []
  }
 ],
 "metadata": {
  "kernelspec": {
   "display_name": "Python 3",
   "language": "python",
   "name": "python3"
  },
  "language_info": {
   "codemirror_mode": {
    "name": "ipython",
    "version": 3
   },
   "file_extension": ".py",
   "mimetype": "text/x-python",
   "name": "python",
   "nbconvert_exporter": "python",
   "pygments_lexer": "ipython3",
   "version": "3.7.3"
  }
 },
 "nbformat": 4,
 "nbformat_minor": 2
}
